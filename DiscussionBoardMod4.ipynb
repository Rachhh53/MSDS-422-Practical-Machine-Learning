{
  "nbformat": 4,
  "nbformat_minor": 0,
  "metadata": {
    "colab": {
      "name": "DiscussionBoardMod4.ipynb",
      "provenance": [],
      "collapsed_sections": [],
      "authorship_tag": "ABX9TyNlhUjA4qfTma89+TFDXL97",
      "include_colab_link": true
    },
    "kernelspec": {
      "name": "python3",
      "display_name": "Python 3"
    },
    "language_info": {
      "name": "python"
    }
  },
  "cells": [
    {
      "cell_type": "markdown",
      "metadata": {
        "id": "view-in-github",
        "colab_type": "text"
      },
      "source": [
        "<a href=\"https://colab.research.google.com/github/Rachhh53/MSDS-422-Practical-Machine-Learning/blob/main/DiscussionBoardMod4.ipynb\" target=\"_parent\"><img src=\"https://colab.research.google.com/assets/colab-badge.svg\" alt=\"Open In Colab\"/></a>"
      ]
    },
    {
      "cell_type": "code",
      "execution_count": 11,
      "metadata": {
        "id": "01qPgOY20rkG"
      },
      "outputs": [],
      "source": [
        "import matplotlib.pyplot as plt"
      ]
    },
    {
      "cell_type": "markdown",
      "source": [
        "Consider a new test for COVID-19. Assume that x% of the population has COVID-19 and that a test is y% sensitive (True Positive Rate) and z% specific (True Negative Rate). You pick the values of x, y, and z"
      ],
      "metadata": {
        "id": "Wq1yiAED9E8H"
      }
    },
    {
      "cell_type": "code",
      "source": [
        "population = 624000\n",
        "positive_test = 102000\n",
        "\n",
        "true_pos = 81600 # 80%*102000\n",
        "false_pos = 20400 # 102000-81600\n",
        "true_neg = 511560 # 624000-102000=522000*98%\n",
        "false_neg = 10440 # 522000*2%"
      ],
      "metadata": {
        "id": "2OJ9V2d40_ua"
      },
      "execution_count": 35,
      "outputs": []
    },
    {
      "cell_type": "code",
      "source": [
        "tpr = true_pos/(true_pos + false_neg)\n",
        "print(\"True positive rate:\", tpr)\n",
        "tnr = true_neg/(true_neg + false_pos)\n",
        "print(\"True negative rate:\", tnr)"
      ],
      "metadata": {
        "colab": {
          "base_uri": "https://localhost:8080/"
        },
        "id": "9Tgv1Whf60xD",
        "outputId": "e5612c26-fde9-4ba9-fd6f-17b154341e24"
      },
      "execution_count": 10,
      "outputs": [
        {
          "output_type": "stream",
          "name": "stdout",
          "text": [
            "True positive rate: 0.8865710560625815\n",
            "True negative rate: 0.9616512519738326\n"
          ]
        }
      ]
    },
    {
      "cell_type": "markdown",
      "source": [
        "Calculate the values for precision and recall and discuss how these relate to negative predictive validity, positive predictive validity, sensitivity, and specificity"
      ],
      "metadata": {
        "id": "bFGspzSm9CcU"
      }
    },
    {
      "cell_type": "code",
      "source": [
        "precision = true_pos/(true_pos + false_pos)\n",
        "print(\"Precision:\", precision)"
      ],
      "metadata": {
        "colab": {
          "base_uri": "https://localhost:8080/"
        },
        "id": "4w7o2tFj7UjL",
        "outputId": "7414c692-5561-48a8-f545-29eeaa4d8d3a"
      },
      "execution_count": 12,
      "outputs": [
        {
          "output_type": "stream",
          "name": "stdout",
          "text": [
            "Precision: 0.8\n"
          ]
        }
      ]
    },
    {
      "cell_type": "markdown",
      "source": [
        "How many negative tests are actually covid negative."
      ],
      "metadata": {
        "id": "BGA9kvXq8FfB"
      }
    },
    {
      "cell_type": "code",
      "source": [
        "npv = true_neg/(true_neg + false_neg) # negative predictive value\n",
        "print(\"NPV:\", npv)"
      ],
      "metadata": {
        "colab": {
          "base_uri": "https://localhost:8080/"
        },
        "id": "TCCnKNTG7zZm",
        "outputId": "ec8f4f7a-3eae-411a-ad8e-72ce07b591d7"
      },
      "execution_count": 13,
      "outputs": [
        {
          "output_type": "stream",
          "name": "stdout",
          "text": [
            "NPV: 0.98\n"
          ]
        }
      ]
    },
    {
      "cell_type": "code",
      "source": [
        "fpr = false_pos/(true_neg + false_pos) # false positive rate\n",
        "print(\"False positive rate:\", fpr)"
      ],
      "metadata": {
        "colab": {
          "base_uri": "https://localhost:8080/"
        },
        "id": "6mdlayPj8VkI",
        "outputId": "11dffbf1-a1b5-4ab4-fdb4-57f18baf2318"
      },
      "execution_count": 14,
      "outputs": [
        {
          "output_type": "stream",
          "name": "stdout",
          "text": [
            "False positive rate: 0.03834874802616738\n"
          ]
        }
      ]
    },
    {
      "cell_type": "markdown",
      "source": [
        "Generate and post ROC and Precision Recall curves based on the values from your table as well as curve fitting.  (You have three known values.:  1 from your table, 1 for all negative, and one for all positive.  All other values are fictitious but might be generated by curve fitting.)"
      ],
      "metadata": {
        "id": "_zqrFIOW8-HD"
      }
    },
    {
      "cell_type": "code",
      "source": [
        "tprs = [.15, .35, .55, .75, tpr, .9, .95, .99, 1]\n",
        "fprs = [.001, .003, .006, .01, fpr, .04, .1, .9, 1]"
      ],
      "metadata": {
        "id": "CW7JHthh8z6a"
      },
      "execution_count": 29,
      "outputs": []
    },
    {
      "cell_type": "code",
      "source": [
        "plt.plot(fprs, tprs, linewidth = 2)\n",
        "plt.plot([0, 1], [0, 1], 'k--')\n",
        "plt.plot(fpr,tpr, color = \"red\", marker = \"*\")\n",
        "plt.xlabel(\"False Positive Rate\")\n",
        "plt.ylabel(\"True Positive Rate\")\n",
        "plt.title(\"ROC\")"
      ],
      "metadata": {
        "colab": {
          "base_uri": "https://localhost:8080/",
          "height": 313
        },
        "id": "GJEfZfTSQJxz",
        "outputId": "b3266601-25ca-4c2d-e536-254c1844c9c1"
      },
      "execution_count": 40,
      "outputs": [
        {
          "output_type": "execute_result",
          "data": {
            "text/plain": [
              "Text(0.5, 1.0, 'ROC')"
            ]
          },
          "metadata": {},
          "execution_count": 40
        },
        {
          "output_type": "display_data",
          "data": {
            "image/png": "[encoded data removed]",
            "text/plain": [
              "<Figure size 432x288 with 1 Axes>"
            ]
          },
          "metadata": {
            "needs_background": "light"
          }
        }
      ]
    },
    {
      "cell_type": "code",
      "source": [
        "prec = [1, .9, precision, .7, .5, .3, 0]\n",
        "recall = [0, .4, tpr, .9, .93, .95, 1]"
      ],
      "metadata": {
        "id": "Jb-o3xufSHDP"
      },
      "execution_count": 32,
      "outputs": []
    },
    {
      "cell_type": "code",
      "source": [
        "plt.plot(recall, prec, linewidth = 2)\n",
        "plt.plot(tpr,precision, color=\"red\", marker=\"*\")\n",
        "plt.xlabel(\"Recall\")\n",
        "plt.ylabel(\"Precision\")\n",
        "plt.title(\"Precision-Recall\") # sensitivity"
      ],
      "metadata": {
        "colab": {
          "base_uri": "https://localhost:8080/",
          "height": 313
        },
        "id": "IutBgNSsSNAV",
        "outputId": "d8b58877-0451-4368-efbd-ea1e9124ad47"
      },
      "execution_count": 41,
      "outputs": [
        {
          "output_type": "execute_result",
          "data": {
            "text/plain": [
              "Text(0.5, 1.0, 'Precision-Recall')"
            ]
          },
          "metadata": {},
          "execution_count": 41
        },
        {
          "output_type": "display_data",
          "data": {
            "image/png": "[encoded data removed]",
            "text/plain": [
              "<Figure size 432x288 with 1 Axes>"
            ]
          },
          "metadata": {
            "needs_background": "light"
          }
        }
      ]
    },
    {
      "cell_type": "markdown",
      "source": [
        "Finally, estimate the probability for your values that an individual who tests positive for COVID-19 actually has COVID-19 (Bayes).  Which metrics are most useful?  Why?\n",
        "<br>\n",
        "The metric that is most useful is the precision of 80% because this tells you which proportion of the positive test results are actually positive."
      ],
      "metadata": {
        "id": "iPL1CzzPVT-X"
      }
    },
    {
      "cell_type": "code",
      "source": [
        ""
      ],
      "metadata": {
        "id": "pqaUU3RJWgak"
      },
      "execution_count": null,
      "outputs": []
    }
  ]
}